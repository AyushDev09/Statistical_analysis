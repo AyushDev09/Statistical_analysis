{
 "cells": [
  {
   "cell_type": "code",
   "execution_count": 1,
   "id": "9de6aba1-cc34-47ad-bcfb-70df3de590bd",
   "metadata": {},
   "outputs": [],
   "source": [
    "import pandas as pd\n",
    "import numpy as np\n",
    "import seaborn as sns\n",
    "import matplotlib.pyplot as plt\n",
    "from scipy.stats import f_oneway, chi2_contingency, ttest_1samp, ttest_ind"
   ]
  },
  {
   "cell_type": "code",
   "execution_count": 2,
   "id": "f39d6a9f-28bc-40e9-8bea-c48258fe7b73",
   "metadata": {},
   "outputs": [],
   "source": [
    "df = pd.read_csv(\"StudentsPerformance.csv\")"
   ]
  },
  {
   "cell_type": "code",
   "execution_count": 3,
   "id": "d37d4795-7fe5-4bc0-9214-e020a1821925",
   "metadata": {},
   "outputs": [
    {
     "data": {
      "text/plain": [
       "(1000, 8)"
      ]
     },
     "execution_count": 3,
     "metadata": {},
     "output_type": "execute_result"
    }
   ],
   "source": [
    "df.shape"
   ]
  },
  {
   "cell_type": "code",
   "execution_count": 4,
   "id": "eed09c4d-7655-4c68-86c8-e1ad09fea0b9",
   "metadata": {},
   "outputs": [
    {
     "data": {
      "text/html": [
       "<div>\n",
       "<style scoped>\n",
       "    .dataframe tbody tr th:only-of-type {\n",
       "        vertical-align: middle;\n",
       "    }\n",
       "\n",
       "    .dataframe tbody tr th {\n",
       "        vertical-align: top;\n",
       "    }\n",
       "\n",
       "    .dataframe thead th {\n",
       "        text-align: right;\n",
       "    }\n",
       "</style>\n",
       "<table border=\"1\" class=\"dataframe\">\n",
       "  <thead>\n",
       "    <tr style=\"text-align: right;\">\n",
       "      <th></th>\n",
       "      <th>gender</th>\n",
       "      <th>race/ethnicity</th>\n",
       "      <th>parental level of education</th>\n",
       "      <th>lunch</th>\n",
       "      <th>test preparation course</th>\n",
       "      <th>math score</th>\n",
       "      <th>reading score</th>\n",
       "      <th>writing score</th>\n",
       "    </tr>\n",
       "  </thead>\n",
       "  <tbody>\n",
       "    <tr>\n",
       "      <th>0</th>\n",
       "      <td>female</td>\n",
       "      <td>group B</td>\n",
       "      <td>bachelor's degree</td>\n",
       "      <td>standard</td>\n",
       "      <td>none</td>\n",
       "      <td>72</td>\n",
       "      <td>72</td>\n",
       "      <td>74</td>\n",
       "    </tr>\n",
       "    <tr>\n",
       "      <th>1</th>\n",
       "      <td>female</td>\n",
       "      <td>group C</td>\n",
       "      <td>some college</td>\n",
       "      <td>standard</td>\n",
       "      <td>completed</td>\n",
       "      <td>69</td>\n",
       "      <td>90</td>\n",
       "      <td>88</td>\n",
       "    </tr>\n",
       "    <tr>\n",
       "      <th>2</th>\n",
       "      <td>female</td>\n",
       "      <td>group B</td>\n",
       "      <td>master's degree</td>\n",
       "      <td>standard</td>\n",
       "      <td>none</td>\n",
       "      <td>90</td>\n",
       "      <td>95</td>\n",
       "      <td>93</td>\n",
       "    </tr>\n",
       "    <tr>\n",
       "      <th>3</th>\n",
       "      <td>male</td>\n",
       "      <td>group A</td>\n",
       "      <td>associate's degree</td>\n",
       "      <td>free/reduced</td>\n",
       "      <td>none</td>\n",
       "      <td>47</td>\n",
       "      <td>57</td>\n",
       "      <td>44</td>\n",
       "    </tr>\n",
       "    <tr>\n",
       "      <th>4</th>\n",
       "      <td>male</td>\n",
       "      <td>group C</td>\n",
       "      <td>some college</td>\n",
       "      <td>standard</td>\n",
       "      <td>none</td>\n",
       "      <td>76</td>\n",
       "      <td>78</td>\n",
       "      <td>75</td>\n",
       "    </tr>\n",
       "  </tbody>\n",
       "</table>\n",
       "</div>"
      ],
      "text/plain": [
       "   gender race/ethnicity parental level of education         lunch  \\\n",
       "0  female        group B           bachelor's degree      standard   \n",
       "1  female        group C                some college      standard   \n",
       "2  female        group B             master's degree      standard   \n",
       "3    male        group A          associate's degree  free/reduced   \n",
       "4    male        group C                some college      standard   \n",
       "\n",
       "  test preparation course  math score  reading score  writing score  \n",
       "0                    none          72             72             74  \n",
       "1               completed          69             90             88  \n",
       "2                    none          90             95             93  \n",
       "3                    none          47             57             44  \n",
       "4                    none          76             78             75  "
      ]
     },
     "execution_count": 4,
     "metadata": {},
     "output_type": "execute_result"
    }
   ],
   "source": [
    "df.head()"
   ]
  },
  {
   "cell_type": "code",
   "execution_count": 11,
   "id": "b493c8f6-9e85-4037-946f-bb1681e5c375",
   "metadata": {},
   "outputs": [
    {
     "name": "stdout",
     "output_type": "stream",
     "text": [
      "<class 'pandas.core.frame.DataFrame'>\n",
      "RangeIndex: 1000 entries, 0 to 999\n",
      "Data columns (total 8 columns):\n",
      " #   Column                       Non-Null Count  Dtype \n",
      "---  ------                       --------------  ----- \n",
      " 0   gender                       1000 non-null   object\n",
      " 1   race/ethnicity               1000 non-null   object\n",
      " 2   parental level of education  1000 non-null   object\n",
      " 3   lunch                        1000 non-null   object\n",
      " 4   test preparation course      1000 non-null   object\n",
      " 5   math score                   1000 non-null   int64 \n",
      " 6   reading score                1000 non-null   int64 \n",
      " 7   writing score                1000 non-null   int64 \n",
      "dtypes: int64(3), object(5)\n",
      "memory usage: 62.6+ KB\n"
     ]
    }
   ],
   "source": [
    "# explore each attribute and its data type\n",
    "\n",
    "df.info()"
   ]
  },
  {
   "cell_type": "code",
   "execution_count": 14,
   "id": "22609996-866c-4488-b95b-26bba46e9a34",
   "metadata": {},
   "outputs": [],
   "source": [
    "# THE DATA HAS NO NULL VALUES"
   ]
  },
  {
   "cell_type": "code",
   "execution_count": 15,
   "id": "ff059001-a9eb-4420-a90d-b7fb7d106574",
   "metadata": {},
   "outputs": [
    {
     "data": {
      "text/html": [
       "<div>\n",
       "<style scoped>\n",
       "    .dataframe tbody tr th:only-of-type {\n",
       "        vertical-align: middle;\n",
       "    }\n",
       "\n",
       "    .dataframe tbody tr th {\n",
       "        vertical-align: top;\n",
       "    }\n",
       "\n",
       "    .dataframe thead th {\n",
       "        text-align: right;\n",
       "    }\n",
       "</style>\n",
       "<table border=\"1\" class=\"dataframe\">\n",
       "  <thead>\n",
       "    <tr style=\"text-align: right;\">\n",
       "      <th></th>\n",
       "      <th>math score</th>\n",
       "      <th>reading score</th>\n",
       "      <th>writing score</th>\n",
       "    </tr>\n",
       "  </thead>\n",
       "  <tbody>\n",
       "    <tr>\n",
       "      <th>count</th>\n",
       "      <td>1000.00000</td>\n",
       "      <td>1000.000000</td>\n",
       "      <td>1000.000000</td>\n",
       "    </tr>\n",
       "    <tr>\n",
       "      <th>mean</th>\n",
       "      <td>66.08900</td>\n",
       "      <td>69.169000</td>\n",
       "      <td>68.054000</td>\n",
       "    </tr>\n",
       "    <tr>\n",
       "      <th>std</th>\n",
       "      <td>15.16308</td>\n",
       "      <td>14.600192</td>\n",
       "      <td>15.195657</td>\n",
       "    </tr>\n",
       "    <tr>\n",
       "      <th>min</th>\n",
       "      <td>0.00000</td>\n",
       "      <td>17.000000</td>\n",
       "      <td>10.000000</td>\n",
       "    </tr>\n",
       "    <tr>\n",
       "      <th>25%</th>\n",
       "      <td>57.00000</td>\n",
       "      <td>59.000000</td>\n",
       "      <td>57.750000</td>\n",
       "    </tr>\n",
       "    <tr>\n",
       "      <th>50%</th>\n",
       "      <td>66.00000</td>\n",
       "      <td>70.000000</td>\n",
       "      <td>69.000000</td>\n",
       "    </tr>\n",
       "    <tr>\n",
       "      <th>75%</th>\n",
       "      <td>77.00000</td>\n",
       "      <td>79.000000</td>\n",
       "      <td>79.000000</td>\n",
       "    </tr>\n",
       "    <tr>\n",
       "      <th>max</th>\n",
       "      <td>100.00000</td>\n",
       "      <td>100.000000</td>\n",
       "      <td>100.000000</td>\n",
       "    </tr>\n",
       "  </tbody>\n",
       "</table>\n",
       "</div>"
      ],
      "text/plain": [
       "       math score  reading score  writing score\n",
       "count  1000.00000    1000.000000    1000.000000\n",
       "mean     66.08900      69.169000      68.054000\n",
       "std      15.16308      14.600192      15.195657\n",
       "min       0.00000      17.000000      10.000000\n",
       "25%      57.00000      59.000000      57.750000\n",
       "50%      66.00000      70.000000      69.000000\n",
       "75%      77.00000      79.000000      79.000000\n",
       "max     100.00000     100.000000     100.000000"
      ]
     },
     "execution_count": 15,
     "metadata": {},
     "output_type": "execute_result"
    }
   ],
   "source": [
    "df.describe()"
   ]
  },
  {
   "cell_type": "code",
   "execution_count": null,
   "id": "ef9a4499-5718-4fc5-8aa5-8b999abeae9f",
   "metadata": {},
   "outputs": [],
   "source": [
    "# THE AVERAGE SCORE IS HIGHEST IN READING AND LOWEST IN MATH\n",
    "# THE DISPERSION OF VALUES IN HIGHEST IN WRITING AND LOWEST IN READING"
   ]
  },
  {
   "cell_type": "markdown",
   "id": "a4842197-4e68-49e1-a66d-2fad10847edb",
   "metadata": {},
   "source": [
    "# HYPOTHESIS TESTING\n",
    "Hypothesis 1 - There is no significant difference between a student's performance in any skills - reading, writing, or math.\n",
    "\n",
    "\r\n",
    "Ho (NULL hypothesis) - There is no difference in the performance of students between math, reading, and writing skills.\n",
    "\r\n",
    "Ha (Alternative hypothesis) - There is a difference in the performance of students between math, reading, and writing skills."
   ]
  },
  {
   "cell_type": "code",
   "execution_count": 18,
   "id": "ab15f8d1-7637-410b-961c-ea94a7c7f355",
   "metadata": {},
   "outputs": [
    {
     "name": "stderr",
     "output_type": "stream",
     "text": [
      "C:\\Users\\ayush dev\\AppData\\Local\\Temp\\ipykernel_6744\\3235808212.py:4: UserWarning: \n",
      "\n",
      "`distplot` is a deprecated function and will be removed in seaborn v0.14.0.\n",
      "\n",
      "Please adapt your code to use either `displot` (a figure-level function with\n",
      "similar flexibility) or `histplot` (an axes-level function for histograms).\n",
      "\n",
      "For a guide to updating your code to use the new functions, please see\n",
      "https://gist.github.com/mwaskom/de44147ed2974457ad6372750bbe5751\n",
      "\n",
      "  sns.distplot(df['math score'],label = 'Math Score')\n",
      "C:\\Users\\ayush dev\\AppData\\Local\\Temp\\ipykernel_6744\\3235808212.py:5: UserWarning: \n",
      "\n",
      "`distplot` is a deprecated function and will be removed in seaborn v0.14.0.\n",
      "\n",
      "Please adapt your code to use either `displot` (a figure-level function with\n",
      "similar flexibility) or `histplot` (an axes-level function for histograms).\n",
      "\n",
      "For a guide to updating your code to use the new functions, please see\n",
      "https://gist.github.com/mwaskom/de44147ed2974457ad6372750bbe5751\n",
      "\n",
      "  sns.distplot(df['reading score'],label = 'Reading Score')\n",
      "C:\\Users\\ayush dev\\AppData\\Local\\Temp\\ipykernel_6744\\3235808212.py:6: UserWarning: \n",
      "\n",
      "`distplot` is a deprecated function and will be removed in seaborn v0.14.0.\n",
      "\n",
      "Please adapt your code to use either `displot` (a figure-level function with\n",
      "similar flexibility) or `histplot` (an axes-level function for histograms).\n",
      "\n",
      "For a guide to updating your code to use the new functions, please see\n",
      "https://gist.github.com/mwaskom/de44147ed2974457ad6372750bbe5751\n",
      "\n",
      "  sns.distplot(df['writing score'],label = 'Writing Score')\n"
     ]
    },
    {
     "data": {
      "text/plain": [
       "<matplotlib.legend.Legend at 0x1c905c0d2d0>"
      ]
     },
     "execution_count": 18,
     "metadata": {},
     "output_type": "execute_result"
    },
    {
     "data": {
      "image/png": "[encoded data removed]",
      "text/plain": [
       "<Figure size 1200x600 with 1 Axes>"
      ]
     },
     "metadata": {},
     "output_type": "display_data"
    }
   ],
   "source": [
    "# comparing using histogram\n",
    "\n",
    "plt.figure(figsize=(12,6))\n",
    "sns.distplot(df['math score'],label = 'Math Score')\n",
    "sns.distplot(df['reading score'],label = 'Reading Score')\n",
    "sns.distplot(df['writing score'],label = 'Writing Score')\n",
    "plt.legend()\n"
   ]
  },
  {
   "cell_type": "code",
   "execution_count": 20,
   "id": "81b651ff-cb34-4e5e-92ec-b1582cbed34b",
   "metadata": {},
   "outputs": [
    {
     "name": "stdout",
     "output_type": "stream",
     "text": [
      "F_onewayResult(statistic=10.824191628378625, pvalue=2.0701893192229333e-05)\n"
     ]
    }
   ],
   "source": [
    "# using one way ANOVA test\n",
    "\n",
    "one_way_anova = f_oneway(df['reading score'], df['writing score'], df['math score'])\n",
    "print(one_way_anova)"
   ]
  },
  {
   "cell_type": "markdown",
   "id": "de956301-a350-4a2e-a282-f51657602aa7",
   "metadata": {},
   "source": [
    "Since the pvalue is less than the significance values we can reject the null hypothesis and accept the alternative hypothesis\n",
    "which is that there is a difference between the population mean"
   ]
  },
  {
   "cell_type": "code",
   "execution_count": null,
   "id": "d140b793-7633-40bc-b152-e0d6267ce124",
   "metadata": {},
   "outputs": [],
   "source": []
  },
  {
   "cell_type": "markdown",
   "id": "6fad3b9c-af81-4efa-9d1d-6f494d7fa4ca",
   "metadata": {},
   "source": [
    "Hypothesis 2 - There is no relation between the gender of a student and their corresponding academic performance\n",
    "\r\n",
    "Ho (NULL hypothesis) - There is no relation between the gender of a student and their corresponding academic performance\n",
    "\n",
    "\r\n",
    "Ha (Alternative hypothesis) - There is a relation between the gender of a student and their corresponding academic performance.\n"
   ]
  },
  {
   "cell_type": "code",
   "execution_count": 24,
   "id": "78ca5d55-ea6d-49d6-9166-71b42087d590",
   "metadata": {},
   "outputs": [],
   "source": [
    "# creating a new feature to represent if a student fails or passes\n",
    "# taking average of all scores \n",
    "# if greater than 40 the student passes and vice versa\n",
    "\n",
    "df['Overall Performance'] = (df['reading score'] + df['writing score'] + df['math score'])/3\n",
    "df['Pass/Fail'] = df['Overall Performance'].apply(lambda x : 'Pass' if x>=40 else 'Fail')\n"
   ]
  },
  {
   "cell_type": "code",
   "execution_count": 23,
   "id": "655edf74-5d9b-4cb5-891f-0861d739343b",
   "metadata": {},
   "outputs": [
    {
     "name": "stdout",
     "output_type": "stream",
     "text": [
      "Pass/Fail  Fail  Pass   All\n",
      "gender                     \n",
      "female       16   502   518\n",
      "male         14   468   482\n",
      "All          30   970  1000\n"
     ]
    }
   ],
   "source": [
    "# creating a table based on variables we defined\n",
    "table1 = pd.crosstab(df['gender'], df['Pass/Fail'], margins = True)\n",
    "print(table1)"
   ]
  },
  {
   "cell_type": "code",
   "execution_count": 31,
   "id": "0a993978-74e2-4db3-94fa-a5906bb0fb01",
   "metadata": {},
   "outputs": [
    {
     "name": "stdout",
     "output_type": "stream",
     "text": [
      "Independent (H0 holds true)\n"
     ]
    }
   ],
   "source": [
    "# extracting data of students using iloc\n",
    "female_data = table1.iloc[0, :].values[0 : 2].tolist()\n",
    "male_data = table1.iloc[1, :].values[0 : 2].tolist()\n",
    "\n",
    "# using chi-square test\n",
    "stat, p, dof, expected = chi2_contingency([female_data, male_data])\n",
    "\n",
    "alpha = 0.05\n",
    "if p <= alpha:\n",
    "    print('Dependent (reject H0)')\n",
    "else:\n",
    "    print('Independent (H0 holds true)')\n",
    " "
   ]
  },
  {
   "cell_type": "markdown",
   "id": "6408c40e-2a1c-4bf4-834b-db39a21f2113",
   "metadata": {},
   "source": [
    "Since p value is greater than the significance value we can not reject null hypothesis\n",
    "There is no relation between gender and academic performance"
   ]
  },
  {
   "cell_type": "code",
   "execution_count": null,
   "id": "da7707ae-c43d-41d8-8482-b502ee92085c",
   "metadata": {},
   "outputs": [],
   "source": []
  },
  {
   "cell_type": "markdown",
   "id": "fe955d3c-7384-4ec4-9a1e-abb0977b7e89",
   "metadata": {},
   "source": [
    "Hypothesis 3 - an educational institution claims that student receive a mean score of 70 or more on average\n",
    "\n",
    "H0 - the overall performance is greater than or equal to 70\n",
    "\n",
    "Ha - the overall performance is less than 70\n",
    "0.0."
   ]
  },
  {
   "cell_type": "code",
   "execution_count": 35,
   "id": "879484d1-c88f-46be-ae64-701b35aa7066",
   "metadata": {},
   "outputs": [
    {
     "data": {
      "text/plain": [
       "TtestResult(statistic=-4.944665643928837, pvalue=8.942878479352004e-07, df=999)"
      ]
     },
     "execution_count": 35,
     "metadata": {},
     "output_type": "execute_result"
    }
   ],
   "source": [
    "# applying a one sample t test\n",
    "\n",
    "ttest_1samp(a = df['Overall Performance'], popmean = 70)"
   ]
  },
  {
   "cell_type": "markdown",
   "id": "131bf703-9df3-4c99-8724-ebbb7be58514",
   "metadata": {},
   "source": [
    "Since pvalue is less than significance value we can reject the null hypothesis "
   ]
  },
  {
   "cell_type": "code",
   "execution_count": 37,
   "id": "ad01dfc5-6010-4500-93f7-8f68ceb6a1d4",
   "metadata": {},
   "outputs": [
    {
     "name": "stdout",
     "output_type": "stream",
     "text": [
      "Mean Math Score of Students With Test Preparation is - 69.69553072625699\n",
      "Mean Math Score of Students Without Test Preparation is - 64.0778816199377\n"
     ]
    }
   ],
   "source": [
    "print('Mean Math Score of Students With Test Preparation is - {}'.format(df[df['test preparation course'] == 'completed']['math score'].mean()))\n",
    "print('Mean Math Score of Students Without Test Preparation is - {}'.format(df[df['test preparation course'] == 'none']['math score'].mean()))"
   ]
  },
  {
   "cell_type": "code",
   "execution_count": 36,
   "id": "544443d2-7c31-4afb-9bfb-96ca5f4e9311",
   "metadata": {},
   "outputs": [
    {
     "data": {
      "text/plain": [
       "69.69553072625699"
      ]
     },
     "execution_count": 36,
     "metadata": {},
     "output_type": "execute_result"
    }
   ],
   "source": [
    "comp = df[df['test preparation course'] == 'completed']['math score'].mean()\n",
    "comp"
   ]
  },
  {
   "cell_type": "markdown",
   "id": "3d740472-6328-47cc-8b53-81176a118826",
   "metadata": {},
   "source": [
    "Hypothesis 4 - There is no difference in the mean math score of students who have preparation and those who dont\n",
    "\n",
    "H0 - there is no difference in students math score irrespective of preparation\n",
    "\n",
    "H1- there is difference in students math score those who have taken test preparation and those who did not"
   ]
  },
  {
   "cell_type": "code",
   "execution_count": 44,
   "id": "c01657e4-1289-472f-895a-f012eefe1533",
   "metadata": {},
   "outputs": [
    {
     "name": "stdout",
     "output_type": "stream",
     "text": [
      "69.69553072625699 64.0778816199377\n"
     ]
    }
   ],
   "source": [
    "# using a two sample t test\n",
    "\n",
    "completed = df[df['test preparation course'] == 'completed']['math score'].mean()\n",
    "not_completed = df[df['test preparation course'] == 'none']['math score'].mean() \n",
    "print(completed,not_completed)"
   ]
  },
  {
   "cell_type": "code",
   "execution_count": 49,
   "id": "e8eede19-edf5-4fc6-8f2d-647a0ff4299e",
   "metadata": {},
   "outputs": [
    {
     "data": {
      "text/plain": [
       "TtestResult(statistic=5.704616417349102, pvalue=1.5359134607147415e-08, df=998.0)"
      ]
     },
     "execution_count": 49,
     "metadata": {},
     "output_type": "execute_result"
    }
   ],
   "source": [
    "ttest_ind(df[df['test preparation course'] == 'completed']['math score'],df[df['test preparation course'] == 'none']['math score'])\n"
   ]
  },
  {
   "cell_type": "markdown",
   "id": "3eae13ae-ea1d-42d8-9acb-b5e51a58f00a",
   "metadata": {},
   "source": [
    "Since pvalue is less than significance value we reject the null hypothesis"
   ]
  },
  {
   "cell_type": "code",
   "execution_count": null,
   "id": "86988f20-9d6f-4831-8ede-327eeeb7cdce",
   "metadata": {},
   "outputs": [],
   "source": []
  }
 ],
 "metadata": {
  "kernelspec": {
   "display_name": "Python 3 (ipykernel)",
   "language": "python",
   "name": "python3"
  },
  "language_info": {
   "codemirror_mode": {
    "name": "ipython",
    "version": 3
   },
   "file_extension": ".py",
   "mimetype": "text/x-python",
   "name": "python",
   "nbconvert_exporter": "python",
   "pygments_lexer": "ipython3",
   "version": "3.11.5"
  }
 },
 "nbformat": 4,
 "nbformat_minor": 5
}
